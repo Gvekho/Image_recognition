{
 "cells": [
  {
   "cell_type": "code",
   "execution_count": 1,
   "id": "a5ca97b5-ae96-4a27-8dae-53b8f1385b65",
   "metadata": {},
   "outputs": [],
   "source": [
    "import pandas as pd\n",
    "import numpy as np\n",
    "import h5py\n",
    "\n",
    "import matplotlib.pyplot as plt\n",
    "import seaborn as sns\n",
    "import scipy\n",
    "from PIL import Image\n",
    "from scipy import ndimage\n",
    "import plotly.graph_objects as go\n",
    "import os\n",
    "from sklearn.preprocessing import MinMaxScaler\n",
    "\n",
    "import tensorflow as tf\n",
    "from tensorflow.keras.utils import to_categorical\n",
    "from tensorflow.keras.models import Sequential\n",
    "from tensorflow.keras.layers import Dense, Conv2D, MaxPooling2D, Flatten\n",
    "from tensorflow.math import confusion_matrix\n"
   ]
  },
  {
   "cell_type": "code",
   "execution_count": 2,
   "id": "dc65ca27-5f54-454a-9216-b90ba3e6fac7",
   "metadata": {},
   "outputs": [],
   "source": [
    "train = pd.read_csv('mnist_train.csv', header=None)\n",
    "test = pd.read_csv('mnist_test.csv', header=None)"
   ]
  },
  {
   "cell_type": "code",
   "execution_count": 3,
   "id": "4a4eac48-c7a3-48b5-8175-c3e48ce762ec",
   "metadata": {},
   "outputs": [
    {
     "name": "stdout",
     "output_type": "stream",
     "text": [
      "traing data shape:(60000, 785)\n",
      "test  data  shape:(10000, 785)\n"
     ]
    }
   ],
   "source": [
    "print(f'traing data shape:{train.shape}')\n",
    "print(f'test  data  shape:{test.shape}')"
   ]
  },
  {
   "cell_type": "markdown",
   "id": "54837156-e16d-45bf-b6d4-d3f578a02e56",
   "metadata": {},
   "source": [
    "## Explore the data"
   ]
  },
  {
   "cell_type": "code",
   "execution_count": 4,
   "id": "e59702e3-f6ca-444a-a06d-26bd452d4452",
   "metadata": {},
   "outputs": [
    {
     "name": "stdout",
     "output_type": "stream",
     "text": [
      "image size is 28.0 X 28.0\n"
     ]
    }
   ],
   "source": [
    "image_size = np.sqrt(train.shape[1]-1)\n",
    "print(f'image size is {image_size} X {image_size}')"
   ]
  },
  {
   "cell_type": "code",
   "execution_count": 5,
   "id": "b404c7dd-1a71-485a-928c-f4830d363419",
   "metadata": {},
   "outputs": [
    {
     "name": "stdout",
     "output_type": "stream",
     "text": [
      "null values in train data: 0\n",
      "null values in test data: 0\n"
     ]
    }
   ],
   "source": [
    "print(f'null values in train data: {train.isnull().sum().sum()}')\n",
    "print(f'null values in test data: {test.isnull().sum().sum()}')"
   ]
  },
  {
   "cell_type": "code",
   "execution_count": 6,
   "id": "b1351477-a68c-431a-9098-cd41a3749755",
   "metadata": {},
   "outputs": [
    {
     "data": {
      "image/png": "[encoded data removed]",
      "text/plain": [
       "<Figure size 432x288 with 1 Axes>"
      ]
     },
     "metadata": {
      "needs_background": "light"
     },
     "output_type": "display_data"
    }
   ],
   "source": [
    "#plot the numbers count\n",
    "values = train[0].value_counts(ascending=True)\n",
    "values.plot.bar(color='teal');"
   ]
  },
  {
   "cell_type": "markdown",
   "id": "f6c5199c-ec7b-4414-96b6-f041f0384611",
   "metadata": {},
   "source": [
    "## Split tha data"
   ]
  },
  {
   "cell_type": "code",
   "execution_count": 7,
   "id": "38a1e8c9-9745-4440-a5dd-f67875e06af3",
   "metadata": {},
   "outputs": [],
   "source": [
    "# since x_train and x_test contains pixel values ranging between 0 to 255 to it would be helpful scale it between 0 to 1 inclusive\n",
    "scalar = MinMaxScaler(feature_range=(0, 1))\n",
    "\n",
    "x_train = train.drop(0,axis=1).values\n",
    "x_train = scalar.fit_transform(x_train)\n",
    "y_train = train[0].values\n",
    "\n",
    "x_test = test.drop(0,axis=1).values\n",
    "x_test = scalar.fit_transform(x_test)\n",
    "y_test = test[0].values"
   ]
  },
  {
   "cell_type": "code",
   "execution_count": 8,
   "id": "afafbc10-f56d-44db-b949-6841a95a2fe0",
   "metadata": {},
   "outputs": [
    {
     "data": {
      "image/png": "[encoded data removed]",
      "text/plain": [
       "<Figure size 360x360 with 9 Axes>"
      ]
     },
     "metadata": {
      "needs_background": "light"
     },
     "output_type": "display_data"
    }
   ],
   "source": [
    "m, n = x_train.shape\n",
    "\n",
    "fig, axes = plt.subplots(3,3, figsize=(5,5))\n",
    "fig = fig.tight_layout(pad=0.1)\n",
    "\n",
    "for i,ax in enumerate(axes.flat):\n",
    "    # Select random indices\n",
    "    random_index = np.random.randint(m)\n",
    "    \n",
    "    # Select rows corresponding to the random indices and\n",
    "    # reshape the image\n",
    "    X_random_reshaped = x_train[random_index].reshape((28,28)).T\n",
    "    \n",
    "    # Display the image\n",
    "    ax.imshow(X_random_reshaped, cmap='gray')\n",
    "    \n",
    "    # Display the label above the image\n",
    "    ax.set_title(y_train.reshape(60000,1)[random_index,0])\n",
    "    ax.set_axis_off()"
   ]
  },
  {
   "cell_type": "markdown",
   "id": "cbf83d61-be7a-4e72-b9df-69b3336858bf",
   "metadata": {},
   "source": [
    "# Modeling"
   ]
  },
  {
   "cell_type": "code",
   "execution_count": 9,
   "id": "cb7b2502-4b90-4f59-a57f-679caa0e617e",
   "metadata": {
    "scrolled": true,
    "tags": []
   },
   "outputs": [
    {
     "name": "stdout",
     "output_type": "stream",
     "text": [
      "Epoch 1/15\n",
      "1875/1875 [==============================] - 4s 2ms/step - loss: 0.2531 - accuracy: 0.9293\n",
      "Epoch 2/15\n",
      "1875/1875 [==============================] - 3s 2ms/step - loss: 0.1092 - accuracy: 0.9678\n",
      "Epoch 3/15\n",
      "1875/1875 [==============================] - 3s 2ms/step - loss: 0.0745 - accuracy: 0.9778\n",
      "Epoch 4/15\n",
      "1875/1875 [==============================] - 3s 2ms/step - loss: 0.0565 - accuracy: 0.9827\n",
      "Epoch 5/15\n",
      "1875/1875 [==============================] - 3s 2ms/step - loss: 0.0435 - accuracy: 0.9863\n",
      "Epoch 6/15\n",
      "1875/1875 [==============================] - 3s 2ms/step - loss: 0.0348 - accuracy: 0.9891\n",
      "Epoch 7/15\n",
      "1875/1875 [==============================] - 3s 2ms/step - loss: 0.0277 - accuracy: 0.9915\n",
      "Epoch 8/15\n",
      "1875/1875 [==============================] - 3s 2ms/step - loss: 0.0216 - accuracy: 0.9936\n",
      "Epoch 9/15\n",
      "1875/1875 [==============================] - 3s 2ms/step - loss: 0.0186 - accuracy: 0.9942\n",
      "Epoch 10/15\n",
      "1875/1875 [==============================] - 3s 2ms/step - loss: 0.0149 - accuracy: 0.9952\n",
      "Epoch 11/15\n",
      "1875/1875 [==============================] - 3s 2ms/step - loss: 0.0129 - accuracy: 0.9960: 0s -\n",
      "Epoch 12/15\n",
      "1875/1875 [==============================] - 3s 2ms/step - loss: 0.0112 - accuracy: 0.9965\n",
      "Epoch 13/15\n",
      "1875/1875 [==============================] - 3s 2ms/step - loss: 0.0107 - accuracy: 0.9966\n",
      "Epoch 14/15\n",
      "1875/1875 [==============================] - 4s 2ms/step - loss: 0.0077 - accuracy: 0.9977\n",
      "Epoch 15/15\n",
      "1875/1875 [==============================] - 3s 2ms/step - loss: 0.0073 - accuracy: 0.9978\n"
     ]
    },
    {
     "data": {
      "text/plain": [
       "<keras.callbacks.History at 0x1b10e1d9970>"
      ]
     },
     "execution_count": 9,
     "metadata": {},
     "output_type": "execute_result"
    }
   ],
   "source": [
    "model = Sequential(\n",
    "    [               \n",
    "        tf.keras.Input(shape=(784,)),  \n",
    "\n",
    "        Dense(128, activation='relu', name = 'layer1'),\n",
    "        Dense(10, activation='sigmoid', name = 'layer2')\n",
    "        \n",
    "    ], name = 'Image_recognition'\n",
    ")\n",
    "\n",
    "model.compile(optimizer='adam', loss='sparse_categorical_crossentropy', metrics=['accuracy'])\n",
    "model.fit(x_train,y_train,epochs=15)"
   ]
  },
  {
   "cell_type": "markdown",
   "id": "f3a06b7b-89ab-43b6-98d3-eb44766e4f11",
   "metadata": {},
   "source": [
    "## Evaluation"
   ]
  },
  {
   "cell_type": "code",
   "execution_count": 10,
   "id": "1b9d7720-a8b4-4ed1-b0db-c78536d37b29",
   "metadata": {},
   "outputs": [
    {
     "name": "stdout",
     "output_type": "stream",
     "text": [
      "Model: \"Image_recognition\"\n",
      "_________________________________________________________________\n",
      " Layer (type)                Output Shape              Param #   \n",
      "=================================================================\n",
      " layer1 (Dense)              (None, 128)               100480    \n",
      "                                                                 \n",
      " layer2 (Dense)              (None, 10)                1290      \n",
      "                                                                 \n",
      "=================================================================\n",
      "Total params: 101,770\n",
      "Trainable params: 101,770\n",
      "Non-trainable params: 0\n",
      "_________________________________________________________________\n"
     ]
    }
   ],
   "source": [
    "model.summary()"
   ]
  },
  {
   "cell_type": "code",
   "execution_count": 11,
   "id": "cc372ac8-f82a-4466-ba7b-11c3cb907c76",
   "metadata": {},
   "outputs": [
    {
     "name": "stdout",
     "output_type": "stream",
     "text": [
      "313/313 [==============================] - 1s 1ms/step - loss: 0.0922 - accuracy: 0.9800\n"
     ]
    }
   ],
   "source": [
    "evaluation = model.evaluate(x_test,y_test)"
   ]
  },
  {
   "cell_type": "code",
   "execution_count": 12,
   "id": "c88e452d-6a2b-4c28-8c74-4847c7a5154c",
   "metadata": {},
   "outputs": [
    {
     "name": "stdout",
     "output_type": "stream",
     "text": [
      "Our model accuracy is 98.0%\n"
     ]
    }
   ],
   "source": [
    "print(f'Our model accuracy is {round(evaluation[1]*100,2)}%')"
   ]
  },
  {
   "cell_type": "code",
   "execution_count": 13,
   "id": "21a460be-842d-400f-b768-11064ef95671",
   "metadata": {},
   "outputs": [],
   "source": [
    "y_pred = model.predict(x_test)"
   ]
  },
  {
   "cell_type": "code",
   "execution_count": 14,
   "id": "47662a64-780c-403d-8ffb-e716862f4eea",
   "metadata": {},
   "outputs": [
    {
     "data": {
      "image/png": "[encoded data removed]",
      "text/plain": [
       "<Figure size 720x504 with 2 Axes>"
      ]
     },
     "metadata": {
      "needs_background": "light"
     },
     "output_type": "display_data"
    }
   ],
   "source": [
    "cf = tf.math.confusion_matrix(labels=y_test,predictions=[np.argmax(i) for i in y_pred])\n",
    "plt.figure(figsize=(10,7))\n",
    "sns.heatmap(cf,annot=True,fmt='d',cmap='BuPu');"
   ]
  },
  {
   "cell_type": "code",
   "execution_count": 15,
   "id": "7c9b8ac2-1bcc-44eb-8d7a-597b5838ba1c",
   "metadata": {},
   "outputs": [],
   "source": [
    "def actual_vs_predicted(i):\n",
    "    print(\"actual label \", y_test[i])\n",
    "    print(\"predicted label \", np.argmax(y_pred[i]))\n",
    "    plt.imshow(x_test[i].reshape(28,28))"
   ]
  },
  {
   "cell_type": "code",
   "execution_count": 16,
   "id": "0310495d-7887-4cf6-b659-0fa6c54f4a21",
   "metadata": {},
   "outputs": [
    {
     "name": "stdout",
     "output_type": "stream",
     "text": [
      "actual label  4\n",
      "predicted label  4\n"
     ]
    },
    {
     "data": {
      "image/png": "[encoded data removed]",
      "text/plain": [
       "<Figure size 432x288 with 1 Axes>"
      ]
     },
     "metadata": {
      "needs_background": "light"
     },
     "output_type": "display_data"
    }
   ],
   "source": [
    "actual_vs_predicted(np.random.randint(y_test[0]))"
   ]
  },
  {
   "cell_type": "code",
   "execution_count": null,
   "id": "8bbb644a-14fa-416c-90d8-8bd75380027f",
   "metadata": {},
   "outputs": [],
   "source": []
  },
  {
   "cell_type": "code",
   "execution_count": null,
   "id": "deba990d-b82f-46c3-b87a-4aa9aec5ce51",
   "metadata": {},
   "outputs": [],
   "source": []
  },
  {
   "cell_type": "code",
   "execution_count": null,
   "id": "daf298a4-10e7-4e9d-9eb5-77a7fdd22c73",
   "metadata": {},
   "outputs": [],
   "source": []
  },
  {
   "cell_type": "code",
   "execution_count": null,
   "id": "6f0616ca-abaf-4d42-bb42-0c7f772a1783",
   "metadata": {},
   "outputs": [],
   "source": []
  },
  {
   "cell_type": "code",
   "execution_count": null,
   "id": "64751736-f486-4e99-abd1-7b54413fd97e",
   "metadata": {},
   "outputs": [],
   "source": []
  }
 ],
 "metadata": {
  "kernelspec": {
   "display_name": "Python 3 (ipykernel)",
   "language": "python",
   "name": "python3"
  },
  "language_info": {
   "codemirror_mode": {
    "name": "ipython",
    "version": 3
   },
   "file_extension": ".py",
   "mimetype": "text/x-python",
   "name": "python",
   "nbconvert_exporter": "python",
   "pygments_lexer": "ipython3",
   "version": "3.8.8"
  }
 },
 "nbformat": 4,
 "nbformat_minor": 5
}
